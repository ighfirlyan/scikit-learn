{
 "cells": [
  {
   "cell_type": "markdown",
   "metadata": {},
   "source": [
    "# 13 Classification Task dengan Naive Bayes\n",
    "\n",
    "Referensi: [https://en.wikipedia.org/wiki/Naive_Bayes_classifier](https://en.wikipedia.org/wiki/Naive_Bayes_classifier)"
   ]
  },
  {
   "cell_type": "markdown",
   "metadata": {},
   "source": [
    "## Bayes' Theorem\n",
    "\n",
    "Bayes' theorem menawarkan suatu formula untuk menghitung nilai probability dari suatu event dengan memanfaatkan pengetahuan sebelumnya dari kondisi terkait; atau sering kali dikenal dengan istilah conditional probability.\n",
    "\n",
    "$P(A|B) = \\frac{P(B|A) \\times P(A)}{P(B)}$ <br/>\n",
    "\n",
    "$P(y|X) = \\frac{P(X|y) \\times P(y)}{P(X)}$ <br/>\n",
    "\n",
    "$Posterior = \\frac{ Likelihood \\times Prior}{ Evidence }$ "
   ]
  },
  {
   "cell_type": "markdown",
   "metadata": {},
   "source": [
    "## Pengenalan Naive Bayes Classification\n",
    "\n",
    "##### Studi Kasus 1\n",
    "![](./images/asep_joko_snack.png)\n",
    "**Misi**: Lakukan prediksi siapa pelanggan yang melakukan pemesanan dengan diketahui pesanannya adalah **lumpia** dan **bakso**.\n",
    "\n",
    "##### Prior Probability: $P(y)$\n",
    "- Referensi: [https://en.wikipedia.org/wiki/Prior_probability](https://en.wikipedia.org/wiki/Prior_probability)\n",
    "- $P(Asep) = 0.5$\n",
    "- $P(Joko) = 0.5$\n",
    "\n",
    "##### Likelihood: $P(X|y)$\n",
    "- Referensi: [https://en.wikipedia.org/wiki/Likelihood_function](https://en.wikipedia.org/wiki/Likelihood_function)\n",
    "- Asep:\n",
    "$$\n",
    "\\begin{aligned}\n",
    " P(lumpia,bakso|Asep) &= (0.1 \\times 0.8)\\\\ \n",
    "                      &= 0.08\n",
    "\\end{aligned}\n",
    "$$\n",
    "\n",
    "- Joko:\n",
    "$$\n",
    "\\begin{aligned}\n",
    " P(lumpia,bakso|Joko) &= (0.3 \\times 0.2)\\\\ \n",
    "                      &= 0.06\n",
    "\\end{aligned}\n",
    "$$\n",
    "\n",
    "##### Evidence atau Normalizer: $P(X)$\n",
    "$$\n",
    "\\begin{aligned}\n",
    " Evidence &= \\sum (Likelihood \\times Prior) \\\\\n",
    " P(lumpia,bakso) &= (0.08 \\times 0.5)+ (0.06 \\times 0.5) \\\\\n",
    "                 &= 0.07\n",
    "\\end{aligned}\n",
    "$$\n",
    "\n",
    "<!-- - Evidence $= \\sum ($Likelihood $\\times$ Prior$)$\n",
    "- Evidence = $P($lumpia,bakso$) = P($lumpia,bakso$|$Asep$) \\times P($Asep$) + P($lumpia,bakso$|$Joko$) \\times P($Joko$)  = (0.08 \\times 0.5)+ (0.06 \\times 0.5) = 0.07$ -->\n",
    "\n",
    "##### Posterior Probability: $P(y|X)$ \n",
    "- Referensi: [https://en.wikipedia.org/wiki/Posterior_probability](https://en.wikipedia.org/wiki/Posterior_probability)\n",
    "\n",
    "- Formula: <br/>\n",
    "$Posterior = \\frac{ Likelihood \\times Prior}{ Evidence }$\n",
    "- Asep:\n",
    "$$\n",
    "\\begin{aligned}\n",
    " P(Asep|lumpia,bakso) &= \\frac{0.08 \\times 0.5}{0.07} \\\\\n",
    "                      &= 0.57 \n",
    "\\end{aligned}\n",
    "$$\n",
    "\n",
    "- Joko:\n",
    "$$\n",
    "\\begin{aligned}\n",
    " P(Joko|lumpia,bakso) &= \\frac{0.06 \\times 0.5}{0.07} \\\\\n",
    "                      &= 0.43 \n",
    "\\end{aligned}\n",
    "$$"
   ]
  },
  {
   "cell_type": "markdown",
   "metadata": {},
   "source": [
    "##### Studi Kasus 2\n",
    "![](./images/asep_joko_snack.png)\n",
    "**Misi**: Lakukan prediksi siapa pelanggan yang melakukan pemesanan dengan diketahui pesanannya adalah **siomay** dan **bakso**.\n",
    "\n",
    "##### Posterior Probability: $P(y|X)$ (kasus 2)\n",
    "- pesanan: siomay, bakso\n",
    "- Evidence: $P(X)$\n",
    "$$\n",
    "\\begin{aligned}\n",
    "P(siomay,bakso) &= (0.1 \\times 0.8 \\times 0.5) + (0.5 \\times 0.2 \\times 0.5) \\\\\n",
    "&= 0.09\n",
    "\\end{aligned}\n",
    "$$\n",
    "\n",
    "- Asep:\n",
    "$$\n",
    "\\begin{aligned}\n",
    "P(Asep|siomay,bakso) &= \\frac{(0.1 \\times 0.8) \\times 0.5}{0.09} \\\\\n",
    "                     &= 0.444\n",
    "\\end{aligned}\n",
    "$$\n",
    "\n",
    "- Joko:\n",
    "$$\n",
    "\\begin{aligned}\n",
    "P(Joko|siomay,bakso) &= \\frac{(0.5 \\times 0.2) \\times 0.5}{0.09} \\\\\n",
    "                     &= 0.555\n",
    "\\end{aligned}\n",
    "$$"
   ]
  },
  {
   "cell_type": "markdown",
   "metadata": {},
   "source": [
    "## Mengapa disebut Naive?\n",
    "\n",
    "- Karena sewaktu kita mendefinisikan Likelihood $P(lumpia,bakso|Asep)$, <br/>\n",
    "- kita mengasumsikan $P(lumpia|Asep)$ conditionally independent terhadap $P(bakso|Asep)$; demikian sebaliknya. <br/>\n",
    "- Sehingga dapat diformulasikan sebagai berikut:\n",
    "\n",
    "$P(lumpia,bakso|Asep) = P(lumpia|Asep) \\times P(bakso|Asep)$\n"
   ]
  },
  {
   "cell_type": "code",
   "execution_count": null,
   "metadata": {},
   "outputs": [],
   "source": []
  }
 ],
 "metadata": {
  "language_info": {
   "name": "python"
  },
  "orig_nbformat": 4
 },
 "nbformat": 4,
 "nbformat_minor": 2
}
