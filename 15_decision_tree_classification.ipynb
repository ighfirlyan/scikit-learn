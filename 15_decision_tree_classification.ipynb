{
 "cells": [
  {
   "cell_type": "markdown",
   "metadata": {},
   "source": [
    "# 15 Classification Task dengan Decision Tree\n",
    "\n",
    "Referensi: [https://en.wikipedia.org/wiki/Decision_tree_learning](https://en.wikipedia.org/wiki/Decision_tree_learning)"
   ]
  },
  {
   "cell_type": "markdown",
   "metadata": {},
   "source": [
    "## Konsep Dasar\n",
    "\n",
    "### Terminology: root node, internal node, leaf node\n",
    "\n",
    "<div>\n",
    "<img src=\"./images/decision_tree_example.png\" width=\"600\">\n",
    "</div>"
   ]
  },
  {
   "cell_type": "markdown",
   "metadata": {},
   "source": [
    "### Gini Impurity\n",
    "\n",
    "<div>\n",
    "    <img src=\"./images/gini_example.png\" width=\"400\">\n",
    "</div>\n",
    "\n",
    "#### Ruas Kiri:\n",
    "\n",
    "$\n",
    "\\begin{align*} \n",
    "G &= 1 - \\sum_i^n P_i^2 \\\\\n",
    "  &= 1 - P(biru)^2 \\\\\n",
    "  &= 1 - (\\frac{4}{4})^2 = 0\n",
    "\\end{align*}\n",
    "$\n",
    "\n",
    "#### Ruas Kanan:\n",
    "\n",
    "$\n",
    "\\begin{align*}\n",
    "G &= 1 - \\sum_i^n P_i^2 \\\\\n",
    "  &= 1 - (P(biru)^2 + P(hijau)^2)\\\\\n",
    "  &= 1 - ( (\\frac{1}{6})^2 + (\\frac{5}{6})^2 ) = 0.278\n",
    "\\end{align*}\n",
    "$\n",
    "\n",
    "\n",
    "#### Average Gini Impurity:\n",
    "\n",
    "$\n",
    "\\begin{align*}\n",
    "G &= \\frac{4}{4+6} \\times 0 + \\frac{6}{4+6} \\times  0.278 \\\\\n",
    "  &= 0.1668\n",
    "\\end{align*}\n",
    "$"
   ]
  },
  {
   "cell_type": "code",
   "execution_count": null,
   "metadata": {},
   "outputs": [],
   "source": []
  },
  {
   "cell_type": "markdown",
   "metadata": {},
   "source": [
    "### Information Gain\n",
    "\n",
    "<div>\n",
    "    <img src=\"./images/information_gain.png\" width=\"500\">\n",
    "</div>"
   ]
  },
  {
   "cell_type": "markdown",
   "metadata": {},
   "source": [
    "### Membangun Decision Tree\n",
    "\n",
    "<div>\n",
    "    <img src=\"./images/build_decision_tree.png\" width=\"900\">\n",
    "</div>\n",
    "\n",
    "$\n",
    "\\begin{align*} \n",
    "G &= 1 - (P(apple)^2 + P(grape)^2 + P(lemon)^2) \\\\\n",
    "   &=1 - ( (\\frac{2}{5})^2 + (\\frac{2}{5})^2 + (\\frac{1}{5})^2 ) \\\\\n",
    "   &= 0.63\n",
    "\\end{align*}    \n",
    "$"
   ]
  },
  {
   "cell_type": "code",
   "execution_count": 1,
   "metadata": {},
   "outputs": [
    {
     "data": {
      "text/plain": [
       "0.6399999999999999"
      ]
     },
     "execution_count": 1,
     "metadata": {},
     "output_type": "execute_result"
    }
   ],
   "source": [
    "1 - ( (2/5)**2 + (2/5)**2 + (1/5)**2 )"
   ]
  },
  {
   "cell_type": "markdown",
   "metadata": {},
   "source": []
  }
 ],
 "metadata": {
  "interpreter": {
   "hash": "3454bc21589f5bc48f743d0fde9bff51384294738c6356029fae86a372931a9f"
  },
  "kernelspec": {
   "display_name": "Python 3.9.4 64-bit",
   "language": "python",
   "name": "python3"
  },
  "language_info": {
   "codemirror_mode": {
    "name": "ipython",
    "version": 3
   },
   "file_extension": ".py",
   "mimetype": "text/x-python",
   "name": "python",
   "nbconvert_exporter": "python",
   "pygments_lexer": "ipython3",
   "version": "3.9.4"
  },
  "orig_nbformat": 4
 },
 "nbformat": 4,
 "nbformat_minor": 2
}
